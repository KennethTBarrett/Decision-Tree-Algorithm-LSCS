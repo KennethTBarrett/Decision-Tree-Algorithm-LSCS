{
 "cells": [
  {
   "cell_type": "markdown",
   "metadata": {},
   "source": [
    "## Imports and Data Setup"
   ]
  },
  {
   "cell_type": "code",
   "execution_count": 1,
   "metadata": {},
   "outputs": [],
   "source": [
    "# Model Imports\n",
    "from sklearn.tree import DecisionTreeClassifier\n",
    "from decision_tree import Classifier\n",
    "\n",
    "# Model Evaluation Imports\n",
    "from sklearn.metrics import accuracy_score"
   ]
  },
  {
   "cell_type": "code",
   "execution_count": 2,
   "metadata": {},
   "outputs": [],
   "source": [
    "from sklearn.datasets import load_wine"
   ]
  },
  {
   "cell_type": "code",
   "execution_count": 3,
   "metadata": {},
   "outputs": [],
   "source": [
    "wine = load_wine()\n",
    "features = wine.data\n",
    "target = wine.target"
   ]
  },
  {
   "cell_type": "code",
   "execution_count": 4,
   "metadata": {},
   "outputs": [],
   "source": [
    "from sklearn.model_selection import train_test_split\n",
    "\n",
    "X_train, X_test, y_train, y_test = train_test_split(features, target, test_size=0.3)"
   ]
  },
  {
   "cell_type": "markdown",
   "metadata": {},
   "source": [
    "### Scikit-Learn Decision Tree Classifier\n",
    "We're going to be using a maximum depth of 5 for both models, and compare the results using scikit-learn's built-in accuracy score."
   ]
  },
  {
   "cell_type": "code",
   "execution_count": 5,
   "metadata": {},
   "outputs": [],
   "source": [
    "scikit_learn_model = DecisionTreeClassifier(max_depth=5)\n",
    "scikit_learn_model.fit(X_train, y_train)\n",
    "scikit_learn_y_pred = scikit_learn_model.predict(X_test)"
   ]
  },
  {
   "cell_type": "markdown",
   "metadata": {},
   "source": [
    "### Kenneth's Decision Tree Classifier"
   ]
  },
  {
   "cell_type": "code",
   "execution_count": 6,
   "metadata": {},
   "outputs": [],
   "source": [
    "kenneths_model = Classifier(max_depth=5)\n",
    "kenneths_model.fit(X_train, y_train)\n",
    "kenneths_y_pred = kenneths_model.predict(X_test)"
   ]
  },
  {
   "cell_type": "markdown",
   "metadata": {},
   "source": [
    "## Model Comparison"
   ]
  },
  {
   "cell_type": "code",
   "execution_count": 7,
   "metadata": {
    "tags": []
   },
   "outputs": [
    {
     "output_type": "stream",
     "name": "stdout",
     "text": "Accuracy for Scikit-Learn's Decision Tree: 0.8518518518518519\nAccuracy for Kenneth Barrett's Decision Tree Algorithm: 0.9074074074074074\n"
    }
   ],
   "source": [
    "print(\"Accuracy for Scikit-Learn's Decision Tree:\", accuracy_score(y_test, scikit_learn_y_pred))\n",
    "print(\"Accuracy for Kenneth Barrett's Decision Tree Algorithm:\", accuracy_score(y_test, kenneths_y_pred))"
   ]
  }
 ],
 "metadata": {
  "kernelspec": {
   "display_name": "Python 3",
   "language": "python",
   "name": "python3"
  },
  "language_info": {
   "codemirror_mode": {
    "name": "ipython",
    "version": 3
   },
   "file_extension": ".py",
   "mimetype": "text/x-python",
   "name": "python",
   "nbconvert_exporter": "python",
   "pygments_lexer": "ipython3",
   "version": "3.7.6-final"
  }
 },
 "nbformat": 4,
 "nbformat_minor": 4
}