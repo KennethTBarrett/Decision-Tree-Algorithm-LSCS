{
 "metadata": {
  "language_info": {
   "codemirror_mode": {
    "name": "ipython",
    "version": 3
   },
   "file_extension": ".py",
   "mimetype": "text/x-python",
   "name": "python",
   "nbconvert_exporter": "python",
   "pygments_lexer": "ipython3",
   "version": "3.7.6-final"
  },
  "orig_nbformat": 2,
  "kernelspec": {
   "name": "python3",
   "display_name": "Python 3"
  }
 },
 "nbformat": 4,
 "nbformat_minor": 2,
 "cells": [
  {
   "cell_type": "code",
   "execution_count": 1,
   "metadata": {
    "tags": []
   },
   "outputs": [
    {
     "output_type": "stream",
     "name": "stdout",
     "text": "Train Shapes:\n(398, 30) (398,)\nTest Shapes\n(171, 30) (171,)\n"
    }
   ],
   "source": [
    "from sklearn.datasets import load_breast_cancer\n",
    "from sklearn.model_selection import train_test_split\n",
    "\n",
    "# Load our dataset.\n",
    "cancer = load_breast_cancer()\n",
    "\n",
    "# Define our features and target vector.\n",
    "features = cancer.data\n",
    "target = cancer.target\n",
    "\n",
    "# Split our data into training and testing sets.\n",
    "X_train, X_test, y_train, y_test = train_test_split(features, target, test_size=0.3, random_state=42)\n",
    "\n",
    "print(\"Train Shapes:\")\n",
    "print(X_train.shape, y_train.shape)\n",
    "\n",
    "print(\"Test Shapes\")\n",
    "print(X_test.shape, y_test.shape)"
   ]
  },
  {
   "cell_type": "code",
   "execution_count": 2,
   "metadata": {},
   "outputs": [
    {
     "output_type": "execute_result",
     "data": {
      "text/plain": "<decision_tree.Classifier at 0x7f6589528dd0>"
     },
     "metadata": {},
     "execution_count": 2
    }
   ],
   "source": [
    "from decision_tree import Classifier\n",
    "\n",
    "# Instantiate our model.\n",
    "clf = Classifier(max_depth=3)\n",
    "\n",
    "# Fit our model to training data in the form of features, target (X, y).\n",
    "clf.fit(X_train, y_train)"
   ]
  },
  {
   "cell_type": "code",
   "execution_count": 3,
   "metadata": {},
   "outputs": [],
   "source": [
    "y_pred = clf.predict(X_test)"
   ]
  },
  {
   "cell_type": "code",
   "execution_count": 4,
   "metadata": {
    "tags": []
   },
   "outputs": [
    {
     "output_type": "stream",
     "name": "stdout",
     "text": "Accuracy for this classifier model: 0.9649122807017544\n"
    }
   ],
   "source": [
    "from sklearn.metrics import accuracy_score\n",
    "\n",
    "print(\"Accuracy for this classifier model:\", accuracy_score(y_test, y_pred))"
   ]
  }
 ]
}